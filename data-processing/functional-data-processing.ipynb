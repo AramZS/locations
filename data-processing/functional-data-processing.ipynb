{
 "cells": [
  {
   "cell_type": "code",
   "execution_count": 2,
   "metadata": {},
   "outputs": [
    {
     "name": "stdout",
     "output_type": "stream",
     "text": [
      "Hello, World!\n"
     ]
    }
   ],
   "source": [
    "print(\"Hello, World 2!\")"
   ]
  },
  {
   "cell_type": "code",
   "execution_count": 7,
   "metadata": {},
   "outputs": [
    {
     "name": "stdout",
     "output_type": "stream",
     "text": [
      "The autoreload extension is already loaded. To reload it, use:\n",
      "  %reload_ext autoreload\n",
      "Reading ../foursquare-export/checkins4.json\n",
      "Reading ../foursquare-export/checkins11.json\n",
      "Reading ../foursquare-export/checkins8.json\n",
      "Reading ../foursquare-export/checkins9.json\n",
      "Reading ../foursquare-export/checkins10.json\n",
      "Reading ../foursquare-export/checkins5.json\n",
      "Reading ../foursquare-export/checkins2.json\n",
      "Reading ../foursquare-export/checkins3.json\n",
      "Reading ../foursquare-export/checkins15.json\n",
      "Reading ../foursquare-export/checkins1.json\n",
      "Reading ../foursquare-export/checkins14.json\n",
      "Reading ../foursquare-export/checkins13.json\n",
      "Reading ../foursquare-export/checkins6.json\n",
      "Reading ../foursquare-export/checkins7.json\n",
      "Reading ../foursquare-export/checkins12.json\n",
      "Reading tips file\n",
      "Reading ../foursquare-export/tips.json\n",
      "Reading ratings file\n",
      "Reading ../foursquare-export/venueRatings.json\n",
      "Reading photos file\n",
      "Reading ../foursquare-export/photos.json\n"
     ]
    }
   ],
   "source": [
    "%load_ext autoreload\n",
    "%autoreload 2\n",
    "import data_processing\n",
    "\n",
    "fileObjects = data_processing.pull_in_data_files('../foursquare-export/')"
   ]
  },
  {
   "cell_type": "code",
   "execution_count": 23,
   "metadata": {},
   "outputs": [
    {
     "name": "stdout",
     "output_type": "stream",
     "text": [
      "4\n",
      "14286\n",
      "106\n",
      "3\n",
      "778\n",
      "{'id': '61be9421f26fec3507451792', 'createdAt': '2021-12-19 02:08:33.000000', 'type': 'checkin', 'timeZoneOffset': -300, 'venue': {'id': '5f2deb987150dc431d7316fa', 'name': 'Happy Valley', 'url': 'https://foursquare.com/v/happy-valley/5f2deb987150dc431d7316fa'}, 'comments': {'count': 0}, 'visibility': 'private', 'shout': ''}\n",
      "Checkins Dataframe shape\n",
      "(14265, 10)\n",
      "id                                         53c089d6498ec6ad43261361\n",
      "createdAt                                2014-07-12 01:05:26.000000\n",
      "type                                                        checkin\n",
      "visibility                                                  private\n",
      "timeZoneOffset                                                 -240\n",
      "venueId                                    522407d311d2bfa502650ad7\n",
      "venueName                                             Pete's Yogurt\n",
      "venueURL          https://foursquare.com/v/petes-yogurt/522407d3...\n",
      "commentsCount                                                     0\n",
      "shout                                                              \n",
      "Name: 0, dtype: object\n",
      "Checkins Dataframe check\n",
      "id                                         53c089d6498ec6ad43261361\n",
      "createdAt                                2014-07-12 01:05:26.000000\n",
      "type                                                        checkin\n",
      "visibility                                                  private\n",
      "timeZoneOffset                                                 -240\n",
      "venueId                                    522407d311d2bfa502650ad7\n",
      "venueName                                             Pete's Yogurt\n",
      "venueURL          https://foursquare.com/v/petes-yogurt/522407d3...\n",
      "commentsCount                                                     0\n",
      "shout                                                              \n",
      "Name: 0, dtype: object\n",
      "Venues Dataframe shape\n",
      "(5759, 19)\n",
      "Venue not found for 5373864b498e35eab63257ea\n",
      "Venue not found for 4846c5acf964a5206f501fe3\n",
      "Venue not found for 5c1280b00336930039275a9f\n",
      "Venue not found for 5a2b3f00cad1b6792a7e0b1a\n",
      "Venue not found for 5921b8be6a5950627d18dafb\n",
      "Venue not found for 5781a77f498e613aff24c128\n",
      "Venue not found for 4e41a72b15201b1cfb509da9\n",
      "Checkin not found for 591b5547018cbb3a2391fb59\n",
      "Photos Dataframe shape\n",
      "(777, 6)\n",
      "data frames created\n",
      "(5762, 19)\n",
      "(14265, 10)\n",
      "(777, 6)\n"
     ]
    }
   ],
   "source": [
    "print(len(fileObjects))\n",
    "print(len(fileObjects[\"checkins\"]))\n",
    "print(len(fileObjects[\"tips\"]))\n",
    "print(len(fileObjects[\"ratings\"]))\n",
    "print(len(fileObjects[\"photos\"]))\n",
    "print(fileObjects[\"checkins\"][0])\n",
    "dataFrames = data_processing.process_to_dfs(fileObjects)\n",
    "print('data frames created')\n",
    "print(dataFrames[\"venues\"].shape)\n",
    "print(dataFrames[\"checkins\"].shape)\n",
    "print(dataFrames[\"photos\"].shape)"
   ]
  }
 ],
 "metadata": {
  "kernelspec": {
   "display_name": "data-processing-kvzvc2ou-py3.13",
   "language": "python",
   "name": "python3"
  },
  "language_info": {
   "codemirror_mode": {
    "name": "ipython",
    "version": 3
   },
   "file_extension": ".py",
   "mimetype": "text/x-python",
   "name": "python",
   "nbconvert_exporter": "python",
   "pygments_lexer": "ipython3",
   "version": "3.13.0"
  }
 },
 "nbformat": 4,
 "nbformat_minor": 4
}
