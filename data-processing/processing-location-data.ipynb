{
 "cells": [
  {
   "cell_type": "code",
   "execution_count": 2,
   "metadata": {},
   "outputs": [
    {
     "name": "stdout",
     "output_type": "stream",
     "text": [
      "Hello, World!\n"
     ]
    }
   ],
   "source": [
    "print(\"Hello, World!\")"
   ]
  },
  {
   "cell_type": "code",
   "execution_count": 97,
   "metadata": {},
   "outputs": [
    {
     "name": "stdout",
     "output_type": "stream",
     "text": [
      "<class 'list'>\n",
      "Reading ../foursquare-export/checkins4.json\n",
      "Reading ../foursquare-export/checkins11.json\n",
      "Reading ../foursquare-export/checkins8.json\n",
      "Reading ../foursquare-export/checkins9.json\n",
      "Reading ../foursquare-export/checkins10.json\n",
      "Reading ../foursquare-export/checkins5.json\n",
      "Reading ../foursquare-export/checkins2.json\n",
      "Reading ../foursquare-export/checkins3.json\n",
      "Reading ../foursquare-export/checkins15.json\n",
      "Reading ../foursquare-export/checkins1.json\n",
      "Reading ../foursquare-export/checkins14.json\n",
      "Reading ../foursquare-export/checkins13.json\n",
      "Reading ../foursquare-export/checkins6.json\n",
      "Reading ../foursquare-export/checkins7.json\n",
      "Reading ../foursquare-export/checkins12.json\n",
      "<class 'list'>\n",
      "15\n"
     ]
    }
   ],
   "source": [
    "import glob\n",
    "import json\n",
    "import pandas as pd\n",
    "\n",
    "# Get list of all JSON files in the current directory\n",
    "json_files = glob.glob('../foursquare-export/checkins*.json')\n",
    "print(type(json_files))\n",
    "# Load each JSON file into a list of dictionaries\n",
    "data = []\n",
    "for file in json_files:\n",
    "\twith open(file, 'r') as f:\n",
    "\t\tprint(f\"Reading {file}\")\n",
    "\t\tdata.append(json.load(f))\n",
    "\n",
    "print(type(data))\n",
    "print(len(data))"
   ]
  },
  {
   "cell_type": "code",
   "execution_count": null,
   "metadata": {},
   "outputs": [
    {
     "name": "stdout",
     "output_type": "stream",
     "text": [
      "Total checkins without visibility: 1000\n",
      "(14265, 9)\n"
     ]
    }
   ],
   "source": [
    "# Create a DataFrame from the list of dictionaries\n",
    "df = pd.DataFrame(columns=[\n",
    "    'id', \n",
    "    'createdAt',\n",
    "    'type',\n",
    "    'visibility',\n",
    "    'timeZoneOffset',\n",
    "    'venueId',\n",
    "    'venueName',\n",
    "    'venueURL',\n",
    "    'commentsCount',\n",
    "    'shout'\n",
    "])\n",
    "\n",
    "for checkinList in data:\n",
    "\tvisCount = 0;\n",
    "\tfor item in checkinList[\"items\"]:\n",
    "\t\tif 'venue' not in item:\n",
    "\t\t\tcontinue\n",
    "\n",
    "\t\tif 'visibility' not in item:\n",
    "\t\t\t# print(f\"Visibility not found for {item['id']} name {item['venue']['name']}\")\n",
    "\t\t\tvisCount += 1\n",
    "\t\t\titem['visibility'] = \"private\"\n",
    "   \n",
    "\t\tif 'shout' not in item:\n",
    "\t\t\t# print(f\"Visibility not found for {item['id']} name {item['venue']['name']}\")\n",
    "\t\t\titem['shout'] = \"\"\n",
    "   \n",
    "\t\tdf = pd.concat([pd.DataFrame([[\n",
    "      item['id'],\n",
    "      item['createdAt'],\n",
    "      item['type'],\n",
    "      item['visibility'],\n",
    "      item['timeZoneOffset'],\n",
    "      item['venue']['id'],\n",
    "      item['venue']['name'],\n",
    "      item['venue']['url'],\n",
    "      item['comments']['count'],\n",
    "      item['shout']\n",
    "      ]], columns=df.columns), df], ignore_index=True)\n",
    "\n",
    "print(f\"Total checkins without visibility: {visCount}\")\n",
    "print(df.shape)"
   ]
  },
  {
   "cell_type": "code",
   "execution_count": 48,
   "metadata": {},
   "outputs": [
    {
     "name": "stdout",
     "output_type": "stream",
     "text": [
      "                             id                   createdAt     type  \\\n",
      "13872  61180ce26f18ec40cccfcf73  2021-08-14 18:35:14.000000  checkin   \n",
      "\n",
      "      visibility timeZoneOffset                   venueId  \\\n",
      "13872    private           -240  4c15352fa1010f4706a94d18   \n",
      "\n",
      "                                venueName  \\\n",
      "13872  Bannerman Island (Pollepel Island)   \n",
      "\n",
      "                                                venueURL commentsCount  \n",
      "13872  https://foursquare.com/v/bannerman-island-poll...             0  \n"
     ]
    }
   ],
   "source": [
    "print(df.loc[df['id']=='61180ce26f18ec40cccfcf73'])"
   ]
  },
  {
   "cell_type": "code",
   "execution_count": 14,
   "metadata": {},
   "outputs": [
    {
     "name": "stdout",
     "output_type": "stream",
     "text": [
      "                            id                   createdAt     type  \\\n",
      "5961  673a6ec59646fb66c8b13d2d  2024-11-17 22:31:33.000000  checkin   \n",
      "\n",
      "        visibility timeZoneOffset                   venueId       venueName  \\\n",
      "5961  closeFriends           -300  59e63da08c35dc3e57ab5520  Patent Pending   \n",
      "\n",
      "                                               venueURL commentsCount  \n",
      "5961  https://foursquare.com/v/patent-pending/59e63d...             0  \n"
     ]
    }
   ],
   "source": [
    "print(df.query('venueName.str.contains(\"Patent Pending\")'))"
   ]
  },
  {
   "cell_type": "code",
   "execution_count": 17,
   "metadata": {},
   "outputs": [
    {
     "name": "stdout",
     "output_type": "stream",
     "text": [
      "Reading tips file\n",
      "Reading ratings file\n",
      "Reading photos file\n"
     ]
    }
   ],
   "source": [
    "\n",
    "# Get tips file\n",
    "tipsFile = open('../foursquare-export/tips.json', 'r')\n",
    "print(f\"Reading tips file\")\n",
    "tipsObject = json.load(tipsFile)\n",
    "tipsSetObject = tipsObject['items']\n",
    "\n",
    "# get Venue Ratings \n",
    "ratingsFile = open('../foursquare-export/venueRatings.json', 'r')\n",
    "print(f\"Reading ratings file\")\n",
    "ratingsObject = json.load(ratingsFile)\n",
    "\n",
    "venueLikes = ratingsObject['venueLikes']\n",
    "venueDislikes = ratingsObject['venueDislikes']\n",
    "venueOkays = ratingsObject['venueOkays']\n",
    "\n",
    "photosFile = open('../foursquare-export/photos.json', 'r')\n",
    "print(f\"Reading photos file\")\n",
    "photosObject = json.load(photosFile)\n",
    "photosSetObject = photosObject['items']"
   ]
  },
  {
   "cell_type": "code",
   "execution_count": null,
   "metadata": {},
   "outputs": [
    {
     "name": "stdout",
     "output_type": "stream",
     "text": [
      "venuesDf.shape\n",
      "(5759, 19)\n",
      "venuesDf.shape checkins\n",
      "['61180ce26f18ec40cccfcf73']\n"
     ]
    }
   ],
   "source": [
    "venuesDf = pd.DataFrame(columns=[\n",
    "    'id', # venue id\n",
    "    'name', # venue name\n",
    "    'url', # venue url\n",
    "    'latitude',\n",
    "    'longitude',\n",
    "    'tipString', # tip text\n",
    "    'tipCreatedAt',\n",
    "    'tipId',\n",
    "    'tipUrl', # tip canonicalUrl\n",
    "    'tipViews', # tip viewCount\n",
    "    'tipAgreeCount', # tip agreeCount\n",
    "    'tipDisagreeCount', # tip disagreeCount\n",
    "    'rating', # from ratings file, can be like, dislike, okay\n",
    "    'imageSuffix', # from photos file, is the `suffix` field\n",
    "    'imageWidth', # from photos file, is the `width` field\n",
    "    'imageHeight', # from photos file, is the `height` field\n",
    "    'imageId', # from photos file, is the `id` field\n",
    "    'imageCreatedAt', # from photos file, is the `createdAt` field  \n",
    "    'checkIns' # array of string checkin IDs.\n",
    "])\n",
    "# venuesDf.set_index('id', inplace=True)\n",
    "for index, row in df.iterrows():\n",
    "\tvenueRow = venuesDf.loc[venuesDf['id']==row['venueId']]\n",
    "\tif venueRow.empty:\n",
    "\t\t# print(f\"Venue not found for {row['venueId']}\")\n",
    "\t\t# continue\n",
    "\t\tvenuesDf.loc[-1] = [\n",
    "      row['venueId'], \n",
    "      row['venueName'],\n",
    "      row[\"venueURL\"],\n",
    "      \"\", # latitude\n",
    "      \"\", # longitude\n",
    "      \"\", # tipString\n",
    "      \"\", # tipCreatedAt\n",
    "      \"\", # tipId\n",
    "      \"\", # tipUrl\n",
    "      \"\", # tipViews\n",
    "      \"\", # tipAgreeCount\n",
    "      \"\", # tipDisagreeCount\n",
    "      \"\", # rating\n",
    "      \"\", # imageSuffix\n",
    "      \"\", # imageWidth\n",
    "      \"\", # imageHeight\n",
    "      \"\", # imageId\n",
    "      \"\", # imageCreatedAt\n",
    "      [row['id']] # checkIns\n",
    "      ]  # adding a row\n",
    "\t\tvenuesDf.index = venuesDf.index + 1  # shifting index\n",
    "\t\tvenuesDf = venuesDf.sort_index()  # sorting by index\n",
    "\telse:\n",
    "\t\tif row[\"id\"] == \"61180ce26f18ec40cccfcf73\":\n",
    "\t\t\tprint('venueRow needs to be appended')\n",
    "\t\t\tprint(venueRow)\n",
    "\t\t# add a new checkin to the series of checkins for this venue\n",
    "\t\tvenuesDf.loc[venuesDf['id'] == row['venueId'], 'checkIns'] = venuesDf.loc[venuesDf['id'] == row['venueId'], 'checkIns'].apply(lambda x: x + [row['id']])\n",
    "\n",
    "\n",
    "print('venuesDf.shape')\n",
    "print(venuesDf.shape)\n",
    "print('venuesDf.shape checkins')\n",
    "print(venuesDf.iloc[100][\"checkIns\"])\n",
    "# print(venuesDf.loc[venuesDf['id']==\"56f3cb1a498e1d05e938aae5\"])"
   ]
  },
  {
   "cell_type": "code",
   "execution_count": 53,
   "metadata": {},
   "outputs": [
    {
     "name": "stdout",
     "output_type": "stream",
     "text": [
      "                            id                 name  \\\n",
      "5750  51e07c2c498e838526ddbf60  Gantry Park Landing   \n",
      "\n",
      "                                                    url latitude longitude  \\\n",
      "5750  https://foursquare.com/v/gantry-park-landing/5...                      \n",
      "\n",
      "     tipString tipCreatedAt tipId tipUrl tipViews tipAgreeCount  \\\n",
      "5750                                                              \n",
      "\n",
      "     tipDisagreeCount rating imageSuffix imageWidth imageHeight imageId  \\\n",
      "5750                                                                      \n",
      "\n",
      "     imageCreatedAt                                           checkIns  \n",
      "5750                 [53c1fe9411d22a43d04b5f0c, 53fe6f6c498eba86e35...  \n"
     ]
    }
   ],
   "source": [
    "\n",
    "print(venuesDf.loc[venuesDf['id']==\"51e07c2c498e838526ddbf60\"])"
   ]
  },
  {
   "cell_type": "code",
   "execution_count": 61,
   "metadata": {},
   "outputs": [
    {
     "name": "stdout",
     "output_type": "stream",
     "text": [
      "Venue not found for 5373864b498e35eab63257ea\n",
      "Venue not found for 4846c5acf964a5206f501fe3\n",
      "                            id               name  \\\n",
      "5735  4a74aadbf964a5201adf1fe3  Foodcellar Market   \n",
      "\n",
      "                                                    url latitude longitude  \\\n",
      "5735  https://foursquare.com/v/foodcellar-market/4a7...                      \n",
      "\n",
      "     tipString tipCreatedAt tipId tipUrl tipViews tipAgreeCount  \\\n",
      "5735                                                              \n",
      "\n",
      "     tipDisagreeCount   rating imageSuffix imageWidth imageHeight imageId  \\\n",
      "5735                   dislike                                              \n",
      "\n",
      "     imageCreatedAt                                           checkIns  \n",
      "5735                 [53d28bb1498ea086564111e7, 53e578a9498e1192bec...  \n",
      "                            id     name  \\\n",
      "1603  5d8bdc1895c3d900085a2a55  Zen Yai   \n",
      "\n",
      "                                                    url latitude longitude  \\\n",
      "1603  https://foursquare.com/v/zen-yai/5d8bdc1895c3d...                      \n",
      "\n",
      "     tipString tipCreatedAt tipId tipUrl tipViews tipAgreeCount  \\\n",
      "1603                                                              \n",
      "\n",
      "     tipDisagreeCount rating imageSuffix imageWidth imageHeight imageId  \\\n",
      "1603                    okay                                              \n",
      "\n",
      "     imageCreatedAt                    checkIns  \n",
      "1603                 [5f3dd05eecc2843bcc2b93f9]  \n"
     ]
    }
   ],
   "source": [
    "def addVenueRating(ratingSet, ratingType, venueDFSet):\n",
    "\tfor ratingItem in ratingSet:\n",
    "\t\tvenueRatingId = ratingItem['url'].split('/')[-1]\n",
    "\t\tvenueRow = venueDFSet.loc[venueDFSet['id']==venueRatingId]\n",
    "\t\tif venueRow.empty:\n",
    "\t\t\tprint(f\"Venue not found for {venueRatingId}\")\n",
    "\t\t\tvenueDFSet.loc[-1] = [\n",
    "\t\t\t\tratingItem['id'], \n",
    "\t\t\t\tratingItem['name'],\n",
    "\t\t\t\tratingItem[\"url\"],\n",
    "\t\t\t\t\"\", # latitude\n",
    "\t\t\t\t\"\", # longitude\n",
    "\t\t\t\t\"\", # tipString\n",
    "\t\t\t\t\"\", # tipCreatedAt\n",
    "\t\t\t\t\"\", # tipId\n",
    "\t\t\t\t\"\", # tipUrl\n",
    "\t\t\t\t\"\", # tipViews\n",
    "\t\t\t\t\"\", # tipAgreeCount\n",
    "\t\t\t\t\"\", # tipDisagreeCount\n",
    "\t\t\t\t\"\", # rating\n",
    "\t\t\t\t\"\", # imageSuffix\n",
    "\t\t\t\t\"\", # imageWidth\n",
    "\t\t\t\t\"\", # imageHeight\n",
    "\t\t\t\t\"\", # imageId\n",
    "\t\t\t\t\"\", # imageCreatedAt\n",
    "\t\t\t\t[] # checkIns\n",
    "\t\t\t]  # adding a row\n",
    "\t\t\tvenueDFSet.index = venueDFSet.index + 1  # shifting index\n",
    "\t\t\tvenueDFSet = venueDFSet.sort_index()  # sorting by index\n",
    "\t\tvenueDFSet.loc[venueDFSet['id'] == venueRatingId, 'rating'] = ratingType   \n",
    "\n",
    "addVenueRating(venueLikes, \"like\", venuesDf)\n",
    "addVenueRating(venueDislikes, \"dislike\", venuesDf)\n",
    "addVenueRating(venueOkays, \"okay\", venuesDf)\n",
    "\n",
    "print(venuesDf.loc[venuesDf['id']==\"4a74aadbf964a5201adf1fe3\"])\n",
    "print(venuesDf.loc[venuesDf['id']==\"5d8bdc1895c3d900085a2a55\"])"
   ]
  },
  {
   "cell_type": "code",
   "execution_count": 71,
   "metadata": {},
   "outputs": [
    {
     "name": "stdout",
     "output_type": "stream",
     "text": [
      "Venue not found for 5c1280b00336930039275a9f\n",
      "Venue not found for 5a2b3f00cad1b6792a7e0b1a\n",
      "Venue not found for 5921b8be6a5950627d18dafb\n",
      "Venue not found for 5781a77f498e613aff24c128\n",
      "Venue not found for 4e41a72b15201b1cfb509da9\n",
      "                            id               name  \\\n",
      "3066  64dd65470e981a714e4c9f6c  First Light Books   \n",
      "\n",
      "                                                    url latitude longitude  \\\n",
      "3066  https://foursquare.com/v/first-light-books/64d...                      \n",
      "\n",
      "                                              tipString  \\\n",
      "3066  Great bookstore, with drinks, snacks, and plen...   \n",
      "\n",
      "                    tipCreatedAt                     tipId  \\\n",
      "3066  2024-10-15 23:55:00.000000  670f00d47d191f5820d40dda   \n",
      "\n",
      "                                                 tipUrl tipViews  \\\n",
      "3066  https://foursquare.com/item/670f00d47d191f5820...       29   \n",
      "\n",
      "     tipAgreeCount tipDisagreeCount rating imageSuffix imageWidth imageHeight  \\\n",
      "3066             0                0   like                                      \n",
      "\n",
      "     imageId imageCreatedAt                    checkIns  \n",
      "3066                         [670efb74d8a0e46cd107fea5]  \n"
     ]
    }
   ],
   "source": [
    "for tip in tipsSetObject:\n",
    "\ttipVenueId = tip[\"venue\"][\"id\"]\n",
    "\tvenueRow = venuesDf.loc[venuesDf['id']==tipVenueId]\n",
    "\tif venueRow.empty:\n",
    "\t\tprint(f\"Venue not found for {tip['id']}\")\n",
    "\t\tvenuesDf.loc[-1] = [\n",
    "\t\t\ttip[\"venue\"][\"id\"], \n",
    "\t\t\ttip[\"venue\"][\"name\"], \n",
    "\t\t\ttip[\"venue\"][\"url\"], \n",
    "\t\t\t\"\", # latitude\n",
    "\t\t\t\"\", # longitude\n",
    "\t\t\t\"\", # tipString\n",
    "\t\t\t\"\", # tipCreatedAt\n",
    "\t\t\t\"\", # tipId\n",
    "\t\t\t\"\", # tipUrl\n",
    "\t\t\t\"\", # tipViews\n",
    "\t\t\t\"\", # tipAgreeCount\n",
    "\t\t\t\"\", # tipDisagreeCount\n",
    "\t\t\t\"\", # rating\n",
    "\t\t\t\"\", # imageSuffix\n",
    "\t\t\t\"\", # imageWidth\n",
    "\t\t\t\"\", # imageHeight\n",
    "\t\t\t\"\", # imageId\n",
    "\t\t\t\"\", # imageCreatedAt\n",
    "\t\t\t[] # checkIns\n",
    "\t\t]  # adding a row  \n",
    "\t\tvenuesDf.index = venuesDf.index + 1  # shifting index\n",
    "\t\tvenuesDf = venuesDf.sort_index()  # sorting by index\n",
    "\t# print(f\"Venue found for {tipVenueId}\")\n",
    "\tvenuesDf.loc[venuesDf['id'] == tipVenueId, 'tipString'] = tip[\"text\"]\n",
    "\tvenuesDf.loc[venuesDf['id'] == tipVenueId, 'tipCreatedAt'] = tip[\"createdAt\"]\n",
    "\tvenuesDf.loc[venuesDf['id'] == tipVenueId, 'tipId'] = tip[\"id\"]\n",
    "\tvenuesDf.loc[venuesDf['id'] == tipVenueId, 'tipViews'] = tip[\"viewCount\"]\n",
    "\tvenuesDf.loc[venuesDf['id'] == tipVenueId, 'tipAgreeCount'] = tip[\"agreeCount\"]\n",
    "\tvenuesDf.loc[venuesDf['id'] == tipVenueId, 'tipDisagreeCount'] = tip[\"disagreeCount\"] \n",
    "\tvenuesDf.loc[venuesDf['id'] == tipVenueId, 'tipUrl'] = tip[\"canonicalUrl\"]  \n",
    " \n",
    "print(venuesDf.loc[venuesDf['id']==\"64dd65470e981a714e4c9f6c\"])"
   ]
  },
  {
   "cell_type": "code",
   "execution_count": 95,
   "metadata": {},
   "outputs": [
    {
     "name": "stdout",
     "output_type": "stream",
     "text": [
      "Checkin not found for 591b5547018cbb3a2391fb59\n",
      "photosDf.shape\n",
      "(777, 6)\n",
      "Empty DataFrame\n",
      "Columns: [id, name, url, latitude, longitude, tipString, tipCreatedAt, tipId, tipUrl, tipViews, tipAgreeCount, tipDisagreeCount, rating, imageSuffix, imageWidth, imageHeight, imageId, imageCreatedAt, checkIns]\n",
      "Index: []\n"
     ]
    }
   ],
   "source": [
    "photosDf = pd.DataFrame(columns=[\n",
    "    'id', \n",
    "    'venueId',\n",
    "    'createdAt',\n",
    "    'suffix',\n",
    "    'width',\n",
    "    'height',\n",
    "])\n",
    "for photoObj in photosSetObject:\n",
    "\tcheckinId = \"\";\n",
    "\tif \"swarmapp\" in photoObj['relatedItemUrl']:\n",
    "\t\tcheckinId = photoObj['relatedItemUrl'].split('/')[-1]\n",
    "\t\t# print(f\"checkinId is {checkinId}\")\n",
    "\t\tcheckinRow = df.loc[df['id'] == checkinId]\n",
    "\t\tif checkinRow.empty:\n",
    "\t\t\tprint(f\"Checkin not found for {checkinId}\")\n",
    "\t\t\tcontinue\n",
    "\t\tvenueId = checkinRow['venueId'].values[0]\n",
    "\t\t#print(f\"Checkin found at {venueId} from {checkinId} \")\n",
    "\t\t#print(checkinRow)\n",
    "\telse:\n",
    "\t\tvenueId = photoObj['relatedItemUrl'].split('/')[-1]\n",
    "\t# print(f\"VenueId found for {venueId}\")\n",
    "\tphotosDf.loc[-1] = [\n",
    "\t\t\tphotoObj[\"id\"],\n",
    "\t\t\tvenueId,\n",
    "\t\t\tphotoObj[\"createdAt\"],\n",
    "\t\t\tphotoObj[\"suffix\"],\n",
    "\t\t\tphotoObj[\"width\"],\n",
    "\t\t\tphotoObj[\"height\"],\n",
    "\t\t]  # adding a row\n",
    "\tphotosDf.index = photosDf.index + 1  # shifting index\n",
    "\tphotosDf = photosDf.sort_index()  # sorting by index\n",
    " \n",
    "\tif not venuesDf.loc[venuesDf['id'] == venueId, 'imageSuffix'].empty:\n",
    "\t\t# print(f\"Image already in place for {venueRatingId}\")\n",
    "\t\tcontinue\n",
    "\t#print(f\"Venue found for {venueId} from {checkinId}\")\n",
    "\tvenuesDf.loc[venuesDf['id'] == venueId, 'imageSuffix'] = photoObj[\"suffix\"]\n",
    "\tvenuesDf.loc[venuesDf['id'] == venueId, 'imageWidth'] = photoObj[\"width\"]\n",
    "\tvenuesDf.loc[venuesDf['id'] == venueId, 'imageHeight'] = photoObj[\"height\"]\n",
    "\tvenuesDf.loc[venuesDf['id'] == venueId, 'imageId'] = photoObj[\"suffix\"]\n",
    "\tvenuesDf.loc[venuesDf['id'] == venueId, 'imageCreatedAt'] = photoObj[\"createdAt\"]\n",
    "\t#print(f\"Venue enriched for {venueId}\")\n",
    "\t#print(venuesDf.loc[venuesDf['id'] == venueId])\n",
    "\n",
    "print('photosDf.shape')\n",
    "print(photosDf.shape) \n",
    "#print(venuesDf.loc[venuesDf['id']==\"4bfeb605ac03952163daa880\"])\n",
    "#print(venuesDf.loc[venuesDf['id']==\"5781a77f498e613aff24c128\"])\n",
    "print(venuesDf.loc[venuesDf['id']==\"591b5547018cbb3a2391fb59\"])"
   ]
  },
  {
   "cell_type": "code",
   "execution_count": null,
   "metadata": {},
   "outputs": [
    {
     "name": "stdout",
     "output_type": "stream",
     "text": [
      "The autoreload extension is already loaded. To reload it, use:\n",
      "  %reload_ext autoreload\n",
      "{'fsq_id': '59e63da08c35dc3e57ab5520', 'categories': [{'id': 10032, 'name': 'Night Club', 'short_name': 'Night Club', 'plural_name': 'Night Clubs', 'icon': {'prefix': 'https://ss3.4sqi.net/img/categories_v2/nightlife/nightclub_', 'suffix': '.png'}}, {'id': 13009, 'name': 'Cocktail Bar', 'short_name': 'Cocktail', 'plural_name': 'Cocktail Bars', 'icon': {'prefix': 'https://ss3.4sqi.net/img/categories_v2/nightlife/cocktails_', 'suffix': '.png'}}, {'id': 13021, 'name': 'Speakeasy', 'short_name': 'Speakeasy', 'plural_name': 'Speakeasies', 'icon': {'prefix': 'https://ss3.4sqi.net/img/categories_v2/nightlife/secretbar_', 'suffix': '.png'}}], 'chains': [], 'closed_bucket': 'Unsure', 'geocodes': {'drop_off': {'latitude': 40.745138, 'longitude': -73.990299}, 'main': {'latitude': 40.745324, 'longitude': -73.990221}, 'roof': {'latitude': 40.745324, 'longitude': -73.990221}}, 'link': '/v3/places/59e63da08c35dc3e57ab5520', 'location': {'address': '49 W 27th St', 'census_block': '360610058001001', 'country': 'US', 'cross_street': 'btwn Broadway & 6th Ave', 'dma': 'New York', 'formatted_address': '49 W 27th St (btwn Broadway & 6th Ave), New York, NY 10001', 'locality': 'New York', 'postcode': '10001', 'region': 'NY'}, 'name': 'Patent Pending', 'related_places': {'parent': {'fsq_id': '59e618dc4c9be64fbe509006', 'categories': [{'id': 13035, 'name': 'Coffee Shop', 'short_name': 'Coffee Shop', 'plural_name': 'Coffee Shops', 'icon': {'prefix': 'https://ss3.4sqi.net/img/categories_v2/food/coffeeshop_', 'suffix': '.png'}}, {'id': 13034, 'name': 'Café', 'short_name': 'Café', 'plural_name': 'Cafés', 'icon': {'prefix': 'https://ss3.4sqi.net/img/categories_v2/food/cafe_', 'suffix': '.png'}}], 'name': 'Patent Coffee'}}, 'timezone': 'America/New_York'}\n"
     ]
    },
    {
     "data": {
      "text/plain": [
       "{'fsq_id': '59e63da08c35dc3e57ab5520',\n",
       " 'categories': [{'id': 10032,\n",
       "   'name': 'Night Club',\n",
       "   'short_name': 'Night Club',\n",
       "   'plural_name': 'Night Clubs',\n",
       "   'icon': {'prefix': 'https://ss3.4sqi.net/img/categories_v2/nightlife/nightclub_',\n",
       "    'suffix': '.png'}},\n",
       "  {'id': 13009,\n",
       "   'name': 'Cocktail Bar',\n",
       "   'short_name': 'Cocktail',\n",
       "   'plural_name': 'Cocktail Bars',\n",
       "   'icon': {'prefix': 'https://ss3.4sqi.net/img/categories_v2/nightlife/cocktails_',\n",
       "    'suffix': '.png'}},\n",
       "  {'id': 13021,\n",
       "   'name': 'Speakeasy',\n",
       "   'short_name': 'Speakeasy',\n",
       "   'plural_name': 'Speakeasies',\n",
       "   'icon': {'prefix': 'https://ss3.4sqi.net/img/categories_v2/nightlife/secretbar_',\n",
       "    'suffix': '.png'}}],\n",
       " 'chains': [],\n",
       " 'closed_bucket': 'Unsure',\n",
       " 'geocodes': {'drop_off': {'latitude': 40.745138, 'longitude': -73.990299},\n",
       "  'main': {'latitude': 40.745324, 'longitude': -73.990221},\n",
       "  'roof': {'latitude': 40.745324, 'longitude': -73.990221}},\n",
       " 'link': '/v3/places/59e63da08c35dc3e57ab5520',\n",
       " 'location': {'address': '49 W 27th St',\n",
       "  'census_block': '360610058001001',\n",
       "  'country': 'US',\n",
       "  'cross_street': 'btwn Broadway & 6th Ave',\n",
       "  'dma': 'New York',\n",
       "  'formatted_address': '49 W 27th St (btwn Broadway & 6th Ave), New York, NY 10001',\n",
       "  'locality': 'New York',\n",
       "  'postcode': '10001',\n",
       "  'region': 'NY'},\n",
       " 'name': 'Patent Pending',\n",
       " 'related_places': {'parent': {'fsq_id': '59e618dc4c9be64fbe509006',\n",
       "   'categories': [{'id': 13035,\n",
       "     'name': 'Coffee Shop',\n",
       "     'short_name': 'Coffee Shop',\n",
       "     'plural_name': 'Coffee Shops',\n",
       "     'icon': {'prefix': 'https://ss3.4sqi.net/img/categories_v2/food/coffeeshop_',\n",
       "      'suffix': '.png'}},\n",
       "    {'id': 13034,\n",
       "     'name': 'Café',\n",
       "     'short_name': 'Café',\n",
       "     'plural_name': 'Cafés',\n",
       "     'icon': {'prefix': 'https://ss3.4sqi.net/img/categories_v2/food/cafe_',\n",
       "      'suffix': '.png'}}],\n",
       "   'name': 'Patent Coffee'}},\n",
       " 'timezone': 'America/New_York'}"
      ]
     },
     "execution_count": 109,
     "metadata": {},
     "output_type": "execute_result"
    }
   ],
   "source": [
    "# %load_ext autoreload\n",
    "%autoreload 2\n",
    "import data_processing\n",
    "\n",
    "config = dotenv_values('../.env')\n",
    "apiKey = config['FSQ_API_KEY']\n",
    "\n",
    "data_processing.get_place_details(\"59e63da08c35dc3e57ab5520\", apiKey)"
   ]
  }
 ],
 "metadata": {
  "kernelspec": {
   "display_name": "data-processing-kvzvc2ou-py3.13",
   "language": "python",
   "name": "python3"
  },
  "language_info": {
   "codemirror_mode": {
    "name": "ipython",
    "version": 3
   },
   "file_extension": ".py",
   "mimetype": "text/x-python",
   "name": "python",
   "nbconvert_exporter": "python",
   "pygments_lexer": "ipython3",
   "version": "3.13.0"
  }
 },
 "nbformat": 4,
 "nbformat_minor": 4
}
