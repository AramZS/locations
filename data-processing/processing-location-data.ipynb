{
 "cells": [
  {
   "cell_type": "code",
   "execution_count": 2,
   "metadata": {},
   "outputs": [
    {
     "name": "stdout",
     "output_type": "stream",
     "text": [
      "Hello, World!\n"
     ]
    }
   ],
   "source": [
    "print(\"Hello, World!\")"
   ]
  },
  {
   "cell_type": "code",
   "execution_count": 3,
   "metadata": {},
   "outputs": [
    {
     "name": "stdout",
     "output_type": "stream",
     "text": [
      "Reading ../foursquare-export/checkins4.json\n",
      "Reading ../foursquare-export/checkins11.json\n",
      "Reading ../foursquare-export/checkins8.json\n",
      "Reading ../foursquare-export/checkins9.json\n",
      "Reading ../foursquare-export/checkins10.json\n",
      "Reading ../foursquare-export/checkins5.json\n",
      "Reading ../foursquare-export/checkins2.json\n",
      "Reading ../foursquare-export/checkins3.json\n",
      "Reading ../foursquare-export/checkins15.json\n",
      "Reading ../foursquare-export/checkins1.json\n",
      "Reading ../foursquare-export/checkins14.json\n",
      "Reading ../foursquare-export/checkins13.json\n",
      "Reading ../foursquare-export/checkins6.json\n",
      "Reading ../foursquare-export/checkins7.json\n",
      "Reading ../foursquare-export/checkins12.json\n"
     ]
    }
   ],
   "source": [
    "import glob\n",
    "import json\n",
    "import pandas as pd\n",
    "\n",
    "# Get list of all JSON files in the current directory\n",
    "json_files = glob.glob('../foursquare-export/checkins*.json')\n",
    "\n",
    "# Load each JSON file into a list of dictionaries\n",
    "data = []\n",
    "for file in json_files:\n",
    "\twith open(file, 'r') as f:\n",
    "\t\tprint(f\"Reading {file}\")\n",
    "\t\tdata.append(json.load(f))\n"
   ]
  },
  {
   "cell_type": "code",
   "execution_count": 10,
   "metadata": {},
   "outputs": [
    {
     "name": "stdout",
     "output_type": "stream",
     "text": [
      "Total checkins without visibility: 1000\n",
      "(14265, 9)\n"
     ]
    }
   ],
   "source": [
    "# Create a DataFrame from the list of dictionaries\n",
    "df = pd.DataFrame(columns=[\n",
    "    'id', \n",
    "    'createdAt',\n",
    "    'type',\n",
    "    'visibility',\n",
    "    'timeZoneOffset',\n",
    "    'venueId',\n",
    "    'venueName',\n",
    "    'venueURL',\n",
    "    'commentsCount'\n",
    "])\n",
    "\n",
    "for checkinList in data:\n",
    "\tvisCount = 0;\n",
    "\tfor item in checkinList[\"items\"]:\n",
    "\t\tif 'venue' not in item:\n",
    "\t\t\tcontinue\n",
    "\n",
    "\t\tif 'visibility' not in item:\n",
    "\t\t\t# print(f\"Visibility not found for {item['id']} name {item['venue']['name']}\")\n",
    "\t\t\tvisCount += 1\n",
    "\t\t\titem['visibility'] = \"private\"\n",
    "   \n",
    "\t\tdf = pd.concat([pd.DataFrame([[\n",
    "      item['id'],\n",
    "      item['createdAt'],\n",
    "      item['type'],\n",
    "      item['visibility'],\n",
    "      item['timeZoneOffset'],\n",
    "      item['venue']['id'],\n",
    "      item['venue']['name'],\n",
    "      item['venue']['url'],\n",
    "      item['comments']['count']\n",
    "      ]], columns=df.columns), df], ignore_index=True)\n",
    "\n",
    "print(f\"Total checkins without visibility: {visCount}\")\n",
    "print(df.shape)"
   ]
  },
  {
   "cell_type": "code",
   "execution_count": 48,
   "metadata": {},
   "outputs": [
    {
     "name": "stdout",
     "output_type": "stream",
     "text": [
      "                             id                   createdAt     type  \\\n",
      "13872  61180ce26f18ec40cccfcf73  2021-08-14 18:35:14.000000  checkin   \n",
      "\n",
      "      visibility timeZoneOffset                   venueId  \\\n",
      "13872    private           -240  4c15352fa1010f4706a94d18   \n",
      "\n",
      "                                venueName  \\\n",
      "13872  Bannerman Island (Pollepel Island)   \n",
      "\n",
      "                                                venueURL commentsCount  \n",
      "13872  https://foursquare.com/v/bannerman-island-poll...             0  \n"
     ]
    }
   ],
   "source": [
    "print(df.loc[df['id']=='61180ce26f18ec40cccfcf73'])"
   ]
  },
  {
   "cell_type": "code",
   "execution_count": 14,
   "metadata": {},
   "outputs": [
    {
     "name": "stdout",
     "output_type": "stream",
     "text": [
      "                            id                   createdAt     type  \\\n",
      "5961  673a6ec59646fb66c8b13d2d  2024-11-17 22:31:33.000000  checkin   \n",
      "\n",
      "        visibility timeZoneOffset                   venueId       venueName  \\\n",
      "5961  closeFriends           -300  59e63da08c35dc3e57ab5520  Patent Pending   \n",
      "\n",
      "                                               venueURL commentsCount  \n",
      "5961  https://foursquare.com/v/patent-pending/59e63d...             0  \n"
     ]
    }
   ],
   "source": [
    "print(df.query('venueName.str.contains(\"Patent Pending\")'))"
   ]
  },
  {
   "cell_type": "code",
   "execution_count": 17,
   "metadata": {},
   "outputs": [
    {
     "name": "stdout",
     "output_type": "stream",
     "text": [
      "Reading tips file\n",
      "Reading ratings file\n",
      "Reading photos file\n"
     ]
    }
   ],
   "source": [
    "\n",
    "# Get tips file\n",
    "tipsFile = open('../foursquare-export/tips.json', 'r')\n",
    "print(f\"Reading tips file\")\n",
    "tipsObject = json.load(tipsFile)\n",
    "tipsSetObject = tipsObject['items']\n",
    "\n",
    "# get Venue Ratings \n",
    "ratingsFile = open('../foursquare-export/venueRatings.json', 'r')\n",
    "print(f\"Reading ratings file\")\n",
    "ratingsObject = json.load(ratingsFile)\n",
    "\n",
    "venueLikes = ratingsObject['venueLikes']\n",
    "venueDislikes = ratingsObject['venueDislikes']\n",
    "venueOkays = ratingsObject['venueOkays']\n",
    "\n",
    "photosFile = open('../foursquare-export/photos.json', 'r')\n",
    "print(f\"Reading photos file\")\n",
    "photosObject = json.load(photosFile)\n",
    "photosSetObject = photosObject['items']"
   ]
  },
  {
   "cell_type": "code",
   "execution_count": null,
   "metadata": {},
   "outputs": [
    {
     "name": "stdout",
     "output_type": "stream",
     "text": [
      "venuesDf.shape\n",
      "(5759, 19)\n",
      "venuesDf.shape checkins\n",
      "['61180ce26f18ec40cccfcf73']\n"
     ]
    }
   ],
   "source": [
    "venuesDf = pd.DataFrame(columns=[\n",
    "    'id', # venue id\n",
    "    'name', # venue name\n",
    "    'url', # venue url\n",
    "    'latitude',\n",
    "    'longitude',\n",
    "    'tipString', # tip text\n",
    "    'tipCreatedAt',\n",
    "    'tipId',\n",
    "    'tipUrl', # tip canonicalUrl\n",
    "    'tipViews', # tip viewCount\n",
    "    'tipAgreeCount', # tip agreeCount\n",
    "    'tipDisagreeCount', # tip disagreeCount\n",
    "    'rating', # from ratings file, can be like, dislike, okay\n",
    "    'imageSuffix', # from photos file, is the `suffix` field\n",
    "    'imageWidth', # from photos file, is the `width` field\n",
    "    'imageHeight', # from photos file, is the `height` field\n",
    "    'imageId', # from photos file, is the `id` field\n",
    "    'imageCreatedAt', # from photos file, is the `createdAt` field  \n",
    "    'checkIns' # array of string checkin IDs.\n",
    "])\n",
    "# venuesDf.set_index('id', inplace=True)\n",
    "for index, row in df.iterrows():\n",
    "\tvenueRow = venuesDf.loc[venuesDf['id']==row['venueId']]\n",
    "\tif venueRow.empty:\n",
    "\t\t# print(f\"Venue not found for {row['venueId']}\")\n",
    "\t\t# continue\n",
    "\t\tvenuesDf.loc[-1] = [\n",
    "      row['venueId'], \n",
    "      row['venueName'],\n",
    "      row[\"venueURL\"],\n",
    "      \"\", # latitude\n",
    "      \"\", # longitude\n",
    "      \"\", # tipString\n",
    "      \"\", # tipCreatedAt\n",
    "      \"\", # tipId\n",
    "      \"\", # tipUrl\n",
    "      \"\", # tipViews\n",
    "      \"\", # tipAgreeCount\n",
    "      \"\", # tipDisagreeCount\n",
    "      \"\", # rating\n",
    "      \"\", # imageSuffix\n",
    "      \"\", # imageWidth\n",
    "      \"\", # imageHeight\n",
    "      \"\", # imageId\n",
    "      \"\", # imageCreatedAt\n",
    "      [row['id']] # checkIns\n",
    "      ]  # adding a row\n",
    "\t\tvenuesDf.index = venuesDf.index + 1  # shifting index\n",
    "\t\tvenuesDf = venuesDf.sort_index()  # sorting by index\n",
    "\telse:\n",
    "\t\tif row[\"id\"] == \"61180ce26f18ec40cccfcf73\":\n",
    "\t\t\tprint('venueRow needs to be appended')\n",
    "\t\t\tprint(venueRow)\n",
    "\t\t# add a new checkin to the series of checkins for this venue\n",
    "\t\tvenuesDf.loc[venuesDf['id'] == row['venueId'], 'checkIns'] = venuesDf.loc[venuesDf['id'] == row['venueId'], 'checkIns'].apply(lambda x: x + [row['id']])\n",
    "\n",
    "\n",
    "print('venuesDf.shape')\n",
    "print(venuesDf.shape)\n",
    "print('venuesDf.shape checkins')\n",
    "print(venuesDf.iloc[100][\"checkIns\"])\n",
    "# print(venuesDf.loc[venuesDf['id']==\"56f3cb1a498e1d05e938aae5\"])"
   ]
  },
  {
   "cell_type": "code",
   "execution_count": 53,
   "metadata": {},
   "outputs": [
    {
     "name": "stdout",
     "output_type": "stream",
     "text": [
      "                            id                 name  \\\n",
      "5750  51e07c2c498e838526ddbf60  Gantry Park Landing   \n",
      "\n",
      "                                                    url latitude longitude  \\\n",
      "5750  https://foursquare.com/v/gantry-park-landing/5...                      \n",
      "\n",
      "     tipString tipCreatedAt tipId tipUrl tipViews tipAgreeCount  \\\n",
      "5750                                                              \n",
      "\n",
      "     tipDisagreeCount rating imageSuffix imageWidth imageHeight imageId  \\\n",
      "5750                                                                      \n",
      "\n",
      "     imageCreatedAt                                           checkIns  \n",
      "5750                 [53c1fe9411d22a43d04b5f0c, 53fe6f6c498eba86e35...  \n"
     ]
    }
   ],
   "source": [
    "\n",
    "print(venuesDf.loc[venuesDf['id']==\"51e07c2c498e838526ddbf60\"])"
   ]
  },
  {
   "cell_type": "code",
   "execution_count": 61,
   "metadata": {},
   "outputs": [
    {
     "name": "stdout",
     "output_type": "stream",
     "text": [
      "Venue not found for 5373864b498e35eab63257ea\n",
      "Venue not found for 4846c5acf964a5206f501fe3\n",
      "                            id               name  \\\n",
      "5735  4a74aadbf964a5201adf1fe3  Foodcellar Market   \n",
      "\n",
      "                                                    url latitude longitude  \\\n",
      "5735  https://foursquare.com/v/foodcellar-market/4a7...                      \n",
      "\n",
      "     tipString tipCreatedAt tipId tipUrl tipViews tipAgreeCount  \\\n",
      "5735                                                              \n",
      "\n",
      "     tipDisagreeCount   rating imageSuffix imageWidth imageHeight imageId  \\\n",
      "5735                   dislike                                              \n",
      "\n",
      "     imageCreatedAt                                           checkIns  \n",
      "5735                 [53d28bb1498ea086564111e7, 53e578a9498e1192bec...  \n",
      "                            id     name  \\\n",
      "1603  5d8bdc1895c3d900085a2a55  Zen Yai   \n",
      "\n",
      "                                                    url latitude longitude  \\\n",
      "1603  https://foursquare.com/v/zen-yai/5d8bdc1895c3d...                      \n",
      "\n",
      "     tipString tipCreatedAt tipId tipUrl tipViews tipAgreeCount  \\\n",
      "1603                                                              \n",
      "\n",
      "     tipDisagreeCount rating imageSuffix imageWidth imageHeight imageId  \\\n",
      "1603                    okay                                              \n",
      "\n",
      "     imageCreatedAt                    checkIns  \n",
      "1603                 [5f3dd05eecc2843bcc2b93f9]  \n"
     ]
    }
   ],
   "source": [
    "def addVenueRating(ratingSet, ratingType, venueDFSet):\n",
    "\tfor ratingItem in ratingSet:\n",
    "\t\tvenueRatingId = ratingItem['url'].split('/')[-1]\n",
    "\t\tvenueRow = venueDFSet.loc[venueDFSet['id']==venueRatingId]\n",
    "\t\tif venueRow.empty:\n",
    "\t\t\tprint(f\"Venue not found for {venueRatingId}\")\n",
    "\t\t\tvenueDFSet.loc[-1] = [\n",
    "\t\t\t\tratingItem['id'], \n",
    "\t\t\t\tratingItem['name'],\n",
    "\t\t\t\tratingItem[\"url\"],\n",
    "\t\t\t\t\"\", # latitude\n",
    "\t\t\t\t\"\", # longitude\n",
    "\t\t\t\t\"\", # tipString\n",
    "\t\t\t\t\"\", # tipCreatedAt\n",
    "\t\t\t\t\"\", # tipId\n",
    "\t\t\t\t\"\", # tipUrl\n",
    "\t\t\t\t\"\", # tipViews\n",
    "\t\t\t\t\"\", # tipAgreeCount\n",
    "\t\t\t\t\"\", # tipDisagreeCount\n",
    "\t\t\t\t\"\", # rating\n",
    "\t\t\t\t\"\", # imageSuffix\n",
    "\t\t\t\t\"\", # imageWidth\n",
    "\t\t\t\t\"\", # imageHeight\n",
    "\t\t\t\t\"\", # imageId\n",
    "\t\t\t\t\"\", # imageCreatedAt\n",
    "\t\t\t\t[] # checkIns\n",
    "\t\t\t]  # adding a row\n",
    "\t\t\tvenueDFSet.index = venueDFSet.index + 1  # shifting index\n",
    "\t\t\tvenueDFSet = venueDFSet.sort_index()  # sorting by index\n",
    "\t\t\tcontinue\n",
    "\t\tvenueDFSet.loc[venueDFSet['id'] == venueRatingId, 'rating'] = ratingType   \n",
    "\n",
    "addVenueRating(venueLikes, \"like\", venuesDf)\n",
    "addVenueRating(venueDislikes, \"dislike\", venuesDf)\n",
    "addVenueRating(venueOkays, \"okay\", venuesDf)\n",
    "\n",
    "print(venuesDf.loc[venuesDf['id']==\"4a74aadbf964a5201adf1fe3\"])\n",
    "print(venuesDf.loc[venuesDf['id']==\"5d8bdc1895c3d900085a2a55\"])"
   ]
  },
  {
   "cell_type": "code",
   "execution_count": null,
   "metadata": {},
   "outputs": [
    {
     "name": "stdout",
     "output_type": "stream",
     "text": [
      "Venue not found for 5c1280b00336930039275a9f\n",
      "Venue not found for 5a2b3f00cad1b6792a7e0b1a\n",
      "Venue not found for 5921b8be6a5950627d18dafb\n",
      "Venue not found for 5781a77f498e613aff24c128\n",
      "Venue not found for 4e41a72b15201b1cfb509da9\n",
      "                            id               name  \\\n",
      "3061  64dd65470e981a714e4c9f6c  First Light Books   \n",
      "\n",
      "                                                    url latitude longitude  \\\n",
      "3061  https://foursquare.com/v/first-light-books/64d...                      \n",
      "\n",
      "                                              tipString  \\\n",
      "3061  Great bookstore, with drinks, snacks, and plen...   \n",
      "\n",
      "                    tipCreatedAt                     tipId  \\\n",
      "3061  2024-10-15 23:55:00.000000  670f00d47d191f5820d40dda   \n",
      "\n",
      "                                                 tipUrl tipViews  \\\n",
      "3061  https://foursquare.com/item/670f00d47d191f5820...       29   \n",
      "\n",
      "     tipAgreeCount tipDisagreeCount rating imageSuffix imageWidth imageHeight  \\\n",
      "3061             0                0   like                                      \n",
      "\n",
      "     imageId imageCreatedAt                    checkIns  \n",
      "3061                         [670efb74d8a0e46cd107fea5]  \n"
     ]
    }
   ],
   "source": [
    "for tip in tipsSetObject:\n",
    "\ttipVenueId = tip[\"venue\"][\"id\"]\n",
    "\tvenueRow = venuesDf.loc[venuesDf['id']==tipVenueId]\n",
    "\tif venueRow.empty:\n",
    "\t\tprint(f\"Venue not found for {tip['id']}\")\n",
    "\t\tvenueDFSet.loc[-1] = [\n",
    "\t\t\ttip[\"venue\"][\"id\"], \n",
    "\t\t\ttip[\"venue\"][\"name\"], \n",
    "\t\t\ttip[\"venue\"][\"url\"], \n",
    "\t\t\t\"\", # latitude\n",
    "\t\t\t\"\", # longitude\n",
    "\t\t\t\"\", # tipString\n",
    "\t\t\t\"\", # tipCreatedAt\n",
    "\t\t\t\"\", # tipId\n",
    "\t\t\t\"\", # tipUrl\n",
    "\t\t\t\"\", # tipViews\n",
    "\t\t\t\"\", # tipAgreeCount\n",
    "\t\t\t\"\", # tipDisagreeCount\n",
    "\t\t\t\"\", # rating\n",
    "\t\t\t\"\", # imageSuffix\n",
    "\t\t\t\"\", # imageWidth\n",
    "\t\t\t\"\", # imageHeight\n",
    "\t\t\t\"\", # imageId\n",
    "\t\t\t\"\", # imageCreatedAt\n",
    "\t\t\t[] # checkIns\n",
    "\t\t]  # adding a row  \n",
    "\t\tcontinue\n",
    "\t# print(f\"Venue found for {tipVenueId}\")\n",
    "\tvenuesDf.loc[venuesDf['id'] == tipVenueId, 'tipString'] = tip[\"text\"]\n",
    "\tvenuesDf.loc[venuesDf['id'] == tipVenueId, 'tipCreatedAt'] = tip[\"createdAt\"]\n",
    "\tvenuesDf.loc[venuesDf['id'] == tipVenueId, 'tipId'] = tip[\"id\"]\n",
    "\tvenuesDf.loc[venuesDf['id'] == tipVenueId, 'tipViews'] = tip[\"viewCount\"]\n",
    "\tvenuesDf.loc[venuesDf['id'] == tipVenueId, 'tipAgreeCount'] = tip[\"agreeCount\"]\n",
    "\tvenuesDf.loc[venuesDf['id'] == tipVenueId, 'tipDisagreeCount'] = tip[\"disagreeCount\"] \n",
    "\tvenuesDf.loc[venuesDf['id'] == tipVenueId, 'tipUrl'] = tip[\"canonicalUrl\"]  \n",
    " \n",
    "print(venuesDf.loc[venuesDf['id']==\"64dd65470e981a714e4c9f6c\"])"
   ]
  },
  {
   "cell_type": "code",
   "execution_count": null,
   "metadata": {},
   "outputs": [],
   "source": []
  }
 ],
 "metadata": {
  "kernelspec": {
   "display_name": "data-processing-kvzvc2ou-py3.13",
   "language": "python",
   "name": "python3"
  },
  "language_info": {
   "codemirror_mode": {
    "name": "ipython",
    "version": 3
   },
   "file_extension": ".py",
   "mimetype": "text/x-python",
   "name": "python",
   "nbconvert_exporter": "python",
   "pygments_lexer": "ipython3",
   "version": "3.13.0"
  }
 },
 "nbformat": 4,
 "nbformat_minor": 4
}
