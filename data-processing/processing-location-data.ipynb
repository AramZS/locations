{
 "cells": [
  {
   "cell_type": "code",
   "execution_count": 1,
   "metadata": {},
   "outputs": [
    {
     "name": "stdout",
     "output_type": "stream",
     "text": [
      "Hello, World!\n"
     ]
    }
   ],
   "source": [
    "print(\"Hello, World!\")"
   ]
  },
  {
   "cell_type": "code",
   "execution_count": 3,
   "metadata": {},
   "outputs": [
    {
     "name": "stdout",
     "output_type": "stream",
     "text": [
      "Reading ../foursquare-export/checkins4.json\n",
      "Reading ../foursquare-export/checkins11.json\n",
      "Reading ../foursquare-export/checkins8.json\n",
      "Reading ../foursquare-export/checkins9.json\n",
      "Reading ../foursquare-export/checkins10.json\n",
      "Reading ../foursquare-export/checkins5.json\n",
      "Reading ../foursquare-export/checkins2.json\n",
      "Reading ../foursquare-export/checkins3.json\n",
      "Reading ../foursquare-export/checkins15.json\n",
      "Reading ../foursquare-export/checkins1.json\n",
      "Reading ../foursquare-export/checkins14.json\n",
      "Reading ../foursquare-export/checkins13.json\n",
      "Reading ../foursquare-export/checkins6.json\n",
      "Reading ../foursquare-export/checkins7.json\n",
      "Reading ../foursquare-export/checkins12.json\n"
     ]
    }
   ],
   "source": [
    "import glob\n",
    "import json\n",
    "import pandas as pd\n",
    "\n",
    "# Get list of all JSON files in the current directory\n",
    "json_files = glob.glob('../foursquare-export/checkins*.json')\n",
    "\n",
    "# Load each JSON file into a list of dictionaries\n",
    "data = []\n",
    "for file in json_files:\n",
    "\twith open(file, 'r') as f:\n",
    "\t\tprint(f\"Reading {file}\")\n",
    "\t\tdata.append(json.load(f))\n"
   ]
  },
  {
   "cell_type": "code",
   "execution_count": 9,
   "metadata": {},
   "outputs": [
    {
     "name": "stdout",
     "output_type": "stream",
     "text": [
      "(14265, 8)\n"
     ]
    }
   ],
   "source": [
    "# Create a DataFrame from the list of dictionaries\n",
    "df = pd.DataFrame(columns=[\n",
    "    'id', \n",
    "    'createdAt',\n",
    "    'type',\n",
    "    # 'visibility',\n",
    "    'timeZoneOffset',\n",
    "    'venueId',\n",
    "    'venueName',\n",
    "    'venueURL',\n",
    "    'commentsCount'\n",
    "])\n",
    "\n",
    "for checkinList in data:\n",
    "\tfor item in checkinList[\"items\"]:\n",
    "\t\tif 'venue' not in item:\n",
    "\t\t\tcontinue\n",
    "\t\tdf = pd.concat([pd.DataFrame([[\n",
    "      item['id'],\n",
    "      item['createdAt'],\n",
    "      item['type'],\n",
    "      # item['visibility'],\n",
    "      item['timeZoneOffset'],\n",
    "      item['venue']['id'],\n",
    "      item['venue']['name'],\n",
    "      item['venue']['url'],\n",
    "      item['comments']['count']\n",
    "      ]], columns=df.columns), df], ignore_index=True)\n",
    "\n",
    "\n",
    "print(df.shape)"
   ]
  },
  {
   "cell_type": "code",
   "execution_count": null,
   "metadata": {},
   "outputs": [],
   "source": []
  }
 ],
 "metadata": {
  "kernelspec": {
   "display_name": "3.13.0",
   "language": "python",
   "name": "python3"
  },
  "language_info": {
   "codemirror_mode": {
    "name": "ipython",
    "version": 3
   },
   "file_extension": ".py",
   "mimetype": "text/x-python",
   "name": "python",
   "nbconvert_exporter": "python",
   "pygments_lexer": "ipython3",
   "version": "3.13.0"
  }
 },
 "nbformat": 4,
 "nbformat_minor": 4
}
